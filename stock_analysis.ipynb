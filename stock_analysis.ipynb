{
  "nbformat": 4,
  "nbformat_minor": 0,
  "metadata": {
    "colab": {
      "name": "Untitled0.ipynb",
      "provenance": [],
      "toc_visible": true,
      "authorship_tag": "ABX9TyMi7ZomYDeK1827PdNXZmR6",
      "include_colab_link": true
    },
    "kernelspec": {
      "name": "python3",
      "display_name": "Python 3"
    },
    "language_info": {
      "name": "python"
    }
  },
  "cells": [
    {
      "cell_type": "markdown",
      "metadata": {
        "id": "view-in-github",
        "colab_type": "text"
      },
      "source": [
        "<a href=\"https://colab.research.google.com/github/aksharpande/5278---Final-Project/blob/main/stock_analysis.ipynb\" target=\"_parent\"><img src=\"https://colab.research.google.com/assets/colab-badge.svg\" alt=\"Open In Colab\"/></a>"
      ]
    },
    {
      "cell_type": "markdown",
      "source": [
        "#CS5262-ML:Stock market analysis "
      ],
      "metadata": {
        "id": "fgbgkz7rnCj7"
      }
    },
    {
      "cell_type": "markdown",
      "source": [
        "##Background:\n",
        "There is a lot of data avaiable for stocks traded in the exchanges(NYSE, NASDAQ, BSE) but there is very less perdictive data analysis done on them. Most of the analysis is on the external factors driving the value. Here is my attempt to use all the data and try to analyze it for prediction.\n",
        "\n",
        "##Project Description\n",
        "I'm going to use yahoo finance data which is avaiable and can be easily converted to dataframes. I'm also planning to use seaborn and pandas to visualize the data.\n",
        "\n",
        "##Performance metric\n",
        "1. Pattern analysis: Pattern analysis using visualizations to create a model for learning and prediction.\n",
        "2. Price drivers: What is driving the price of a stock, there a re many factors that can be considered here like market conditions, new products, diversification etc.\n",
        "3. Similar stocks: Use data from similar industries to to train and try to do a accurate prediction. For eg: data from Pfizer can be used to train and analyze the stock proce for Johnson&Johnson "
      ],
      "metadata": {
        "id": "8vrj5oolnC8J"
      }
    },
    {
      "cell_type": "markdown",
      "source": [
        "##Basic EDA\n",
        "Questions to be answered after examining the data.\n",
        "\n",
        "1. Daily movement(increase/decrease) in the stock price?\n",
        "2. What was the daily moving average of the selected stocks?\n",
        "3. Daily return on investment?"
      ],
      "metadata": {
        "id": "ygD8rE6yAGGL"
      }
    },
    {
      "cell_type": "markdown",
      "source": [
        "# **1. Daily movement(increase/decrease) in the stock price?**"
      ],
      "metadata": {
        "id": "TvBMZpaKEFpO"
      }
    },
    {
      "cell_type": "code",
      "source": [
        "import pandas as pd\n",
        "import numpy as np\n",
        "\n",
        "import matplotlib.pyplot as plt\n",
        "import seaborn as sns\n",
        "\n",
        "plt.style.use(\"fivethirtyeight\")\n",
        "%matplotlib inline\n",
        "\n",
        "# For reading stock data from yahoo\n",
        "from pandas_datareader.data import DataReader\n",
        "!pip install yfinance\n",
        "\n",
        "from datetime import datetime"
      ],
      "metadata": {
        "colab": {
          "base_uri": "https://localhost:8080/"
        },
        "id": "sv9s9Ce2EQV4",
        "outputId": "acf247c8-11db-4c06-dea9-64a3cfa7b214"
      },
      "execution_count": 1,
      "outputs": [
        {
          "output_type": "stream",
          "name": "stdout",
          "text": [
            "Looking in indexes: https://pypi.org/simple, https://us-python.pkg.dev/colab-wheels/public/simple/\n",
            "Requirement already satisfied: yfinance in /usr/local/lib/python3.7/dist-packages (0.1.74)\n",
            "Requirement already satisfied: pandas>=0.24.0 in /usr/local/lib/python3.7/dist-packages (from yfinance) (1.3.5)\n",
            "Requirement already satisfied: requests>=2.26 in /usr/local/lib/python3.7/dist-packages (from yfinance) (2.28.1)\n",
            "Requirement already satisfied: numpy>=1.15 in /usr/local/lib/python3.7/dist-packages (from yfinance) (1.21.6)\n",
            "Requirement already satisfied: multitasking>=0.0.7 in /usr/local/lib/python3.7/dist-packages (from yfinance) (0.0.11)\n",
            "Requirement already satisfied: lxml>=4.5.1 in /usr/local/lib/python3.7/dist-packages (from yfinance) (4.9.1)\n",
            "Requirement already satisfied: python-dateutil>=2.7.3 in /usr/local/lib/python3.7/dist-packages (from pandas>=0.24.0->yfinance) (2.8.2)\n",
            "Requirement already satisfied: pytz>=2017.3 in /usr/local/lib/python3.7/dist-packages (from pandas>=0.24.0->yfinance) (2022.2.1)\n",
            "Requirement already satisfied: six>=1.5 in /usr/local/lib/python3.7/dist-packages (from python-dateutil>=2.7.3->pandas>=0.24.0->yfinance) (1.15.0)\n",
            "Requirement already satisfied: charset-normalizer<3,>=2 in /usr/local/lib/python3.7/dist-packages (from requests>=2.26->yfinance) (2.1.1)\n",
            "Requirement already satisfied: certifi>=2017.4.17 in /usr/local/lib/python3.7/dist-packages (from requests>=2.26->yfinance) (2022.6.15)\n",
            "Requirement already satisfied: urllib3<1.27,>=1.21.1 in /usr/local/lib/python3.7/dist-packages (from requests>=2.26->yfinance) (1.24.3)\n",
            "Requirement already satisfied: idna<4,>=2.5 in /usr/local/lib/python3.7/dist-packages (from requests>=2.26->yfinance) (2.10)\n"
          ]
        }
      ]
    }
  ]
}