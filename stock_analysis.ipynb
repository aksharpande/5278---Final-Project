{
  "nbformat": 4,
  "nbformat_minor": 0,
  "metadata": {
    "colab": {
      "name": "stock_analysis.ipynb",
      "provenance": [],
      "toc_visible": true,
      "authorship_tag": "ABX9TyN5qUmOapFSH1VmmK1mLjfD",
      "include_colab_link": true
    },
    "kernelspec": {
      "name": "python3",
      "display_name": "Python 3"
    },
    "language_info": {
      "name": "python"
    }
  },
  "cells": [
    {
      "cell_type": "markdown",
      "metadata": {
        "id": "view-in-github",
        "colab_type": "text"
      },
      "source": [
        "<a href=\"https://colab.research.google.com/github/aksharpande/5278---Final-Project/blob/main/stock_analysis.ipynb\" target=\"_parent\"><img src=\"https://colab.research.google.com/assets/colab-badge.svg\" alt=\"Open In Colab\"/></a>"
      ]
    },
    {
      "cell_type": "markdown",
      "source": [
        "#CS5262-ML:Stock market analysis "
      ],
      "metadata": {
        "id": "fgbgkz7rnCj7"
      }
    },
    {
      "cell_type": "markdown",
      "source": [
        "##Background:\n",
        "There is a lot of data avaiable for stocks traded in the exchanges(NYSE, NASDAQ, BSE) but there is very less perdictive data analysis done on them. Most of the analysis is on the external factors driving the value. Here is my attempt to use all the data and try to analyze it for prediction."
      ],
      "metadata": {
        "id": "8vrj5oolnC8J"
      }
    },
    {
      "cell_type": "markdown",
      "source": [
        "##Project Description\n",
        "I'm going to use yahoo finance data which is avaiable and can be easily converted to dataframes. I'm also planning to use seaborn and pandas to visualize the data.\n"
      ],
      "metadata": {
        "id": "kZTki_FP12v_"
      }
    },
    {
      "cell_type": "markdown",
      "source": [
        "##Performance metric\n",
        "1. Pattern analysis: Pattern analysis using visualizations to create a model for learning and prediction.\n",
        "2. Price drivers: What is driving the price of a stock, there a re many factors that can be considered here like market conditions, new products, diversification etc.\n",
        "3. Similar stocks: Use data from similar industries to to train and try to do a accurate prediction. For eg: data from Pfizer can be used to train and analyze the stock proce for Johnson&Johnson "
      ],
      "metadata": {
        "id": "KUD4TAgx17kU"
      }
    }
  ]
}